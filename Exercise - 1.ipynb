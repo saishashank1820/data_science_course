{
 "cells": [
  {
   "cell_type": "markdown",
   "metadata": {},
   "source": [
    "### The questions for the exercises are given above the cells and the expected output is given below the cell. Please type the code inserting a new cell below the question because if you run the expected output cell the output would vanish! Happy learning! "
   ]
  },
  {
   "cell_type": "markdown",
   "metadata": {},
   "source": [
    "## 1. Write a Python program to count the number of even and odd numbers from a series of numbers."
   ]
  },
  {
   "cell_type": "code",
   "execution_count": 5,
   "metadata": {},
   "outputs": [
    {
     "name": "stdout",
     "output_type": "stream",
     "text": [
      "Number of even numbers : 7\n",
      "Number of odd numbers: 6\n"
     ]
    }
   ],
   "source": [
    "# Python program for the count of even and odd numbers. \n",
    "#As the ask is from a series of numbers, we are taking a list consisting of random numbers. \n",
    "\n",
    "num_list = [2,3,4,5,6,76,56,89,34,45,67,75,88]\n",
    "odd=0;even=0\n",
    "for i in num_list:\n",
    "    if i%2==0:\n",
    "        even+=1 \n",
    "    else:\n",
    "        odd+=1 \n",
    "print(f\"Number of even numbers : {even}\\nNumber of odd numbers: {odd}\")"
   ]
  },
  {
   "cell_type": "markdown",
   "metadata": {},
   "source": [
    "## 2. Write a Python program to find numbers between 100 and 400 (both included) where each digit of a number is an even number. The numbers obtained should be printed in a comma-separated sequence."
   ]
  },
  {
   "cell_type": "code",
   "execution_count": 7,
   "metadata": {},
   "outputs": [
    {
     "name": "stdout",
     "output_type": "stream",
     "text": [
      "200,202,204,206,208,220,222,224,226,228,240,242,244,246,248,260,262,264,266,268,280,282,284,286,288,400\n"
     ]
    }
   ],
   "source": [
    "#Below function checks for all even digits in a number\n",
    "def all_even_digits(num):\n",
    "    while(num>0):\n",
    "        digit = num%10\n",
    "        if digit%2!=0:\n",
    "            return False\n",
    "        num//=10\n",
    "    return True\n",
    "result_list=[]\n",
    "for i in range(100,401):\n",
    "    if all_even_digits(i):\n",
    "        result_list.append(i)\n",
    "print(*result_list,sep=',')"
   ]
  },
  {
   "cell_type": "markdown",
   "metadata": {},
   "source": [
    "## 3. Write a Python program to calculate a dog's age in dog's years. Go to the editor\n",
    "Note: For the first two years, a dog year is equal to 10.5 human years. After that, each dog year equals 4 human years."
   ]
  },
  {
   "cell_type": "code",
   "execution_count": 27,
   "metadata": {},
   "outputs": [
    {
     "name": "stdout",
     "output_type": "stream",
     "text": [
      "The dog's age in dog's years is 93.0\n"
     ]
    }
   ],
   "source": [
    "'''Input a dog's age in human years: 20\n",
    "The dog's age in dog's years is 93'''\n",
    "# Assuming that the input age is never 0. \n",
    "age_in_human = 20\n",
    "\n",
    "if age_in_human <= 2:\n",
    "    age_in_dog_years = age_in_human * 10.5 \n",
    "else:\n",
    "    age_in_dog_years = 2 * 10.5 + (age_in_human - 2)*4 \n",
    "print(f\"The dog's age in dog's years is {age_in_dog_years}\")\n"
   ]
  },
  {
   "cell_type": "markdown",
   "metadata": {},
   "source": [
    "## 4. Write a Python function to find the Max of three numbers."
   ]
  },
  {
   "cell_type": "code",
   "execution_count": 13,
   "metadata": {},
   "outputs": [
    {
     "name": "stdout",
     "output_type": "stream",
     "text": [
      "The Three numbers are: (3, 6, -5)\n",
      "6\n"
     ]
    }
   ],
   "source": [
    "def max_of_three(num1,num2,num3):\n",
    "    if num1 > num2 and num1 > num3:\n",
    "        return num1 \n",
    "    elif num2 > num3:\n",
    "        return num2 \n",
    "    else:\n",
    "        return num3\n",
    "print(\"The Three numbers are: (3, 6, -5)\")\n",
    "print(max_of_three(3,6,-5))"
   ]
  },
  {
   "cell_type": "markdown",
   "metadata": {},
   "source": [
    "## 5. Write a Python function that takes a number as a parameter and check the number is prime or not."
   ]
  },
  {
   "cell_type": "code",
   "execution_count": 19,
   "metadata": {},
   "outputs": [
    {
     "name": "stdout",
     "output_type": "stream",
     "text": [
      "The number is: 9\n",
      "False\n"
     ]
    }
   ],
   "source": [
    "def check_prime(number):\n",
    "    for i in range(2,number//2+1):\n",
    "        if number%i==0:\n",
    "            return False\n",
    "    return True\n",
    "print(\"The number is: 9\")\n",
    "print(check_prime(9))"
   ]
  },
  {
   "cell_type": "markdown",
   "metadata": {},
   "source": [
    "## 6. Write a Python function that accepts a string and calculate the number of upper case letters and lower case letters. Go to the editor\n"
   ]
  },
  {
   "cell_type": "code",
   "execution_count": 22,
   "metadata": {},
   "outputs": [
    {
     "name": "stdout",
     "output_type": "stream",
     "text": [
      "Original String :  Inceptz is One of The BeSt Places TO LEarn DataSciEnce\n",
      "No. of Upper case Characters : 13\n",
      "No. of Lower case Characters: 32\n"
     ]
    }
   ],
   "source": [
    "print(\"Original String :  Inceptz is One of The BeSt Places TO LEarn DataSciEnce\")\n",
    "original_string = \"Inceptz is One of The BeSt Places TO LEarn DataSciEnce\"\n",
    "lower_case = 0;upper_case = 0\n",
    "for i in original_string:\n",
    "    if i!=\" \" and i.islower():\n",
    "        lower_case+=1 \n",
    "    elif i!=' ':\n",
    "        upper_case+=1\n",
    "print(f\"No. of Upper case Characters : {upper_case}\\nNo. of Lower case Characters: {lower_case}\")"
   ]
  },
  {
   "cell_type": "markdown",
   "metadata": {},
   "source": [
    "## 7. Write a Python program to reverse a string. "
   ]
  },
  {
   "cell_type": "code",
   "execution_count": 24,
   "metadata": {},
   "outputs": [
    {
     "name": "stdout",
     "output_type": "stream",
     "text": [
      "The original string is: 1234abcd\n",
      "The reversed string is: dcba4321\n"
     ]
    }
   ],
   "source": [
    "s1=\"1234abcd\"\n",
    "print(\"The original string is:\",s1)\n",
    "print(\"The reversed string is:\",s1[::-1])"
   ]
  },
  {
   "cell_type": "markdown",
   "metadata": {},
   "source": [
    "## 8. Write a Python program to find  the greatest common divisor (gcd) of two integers."
   ]
  },
  {
   "cell_type": "code",
   "execution_count": 26,
   "metadata": {},
   "outputs": [
    {
     "name": "stdout",
     "output_type": "stream",
     "text": [
      "The two numbers are: (12, 14)\n",
      "The GCD of the numbers are 2\n"
     ]
    }
   ],
   "source": [
    "def gcd_of_2nos(number1,number2):\n",
    "    gcd = 0\n",
    "    for i in range(1,max(number1,number2)+1):\n",
    "        if number1%i==0 and number2%i==0:\n",
    "            gcd = i \n",
    "    return gcd\n",
    "print(\"The two numbers are: (12, 14)\")\n",
    "print(f\"The GCD of the numbers are {gcd_of_2nos(12,14)}\")\n"
   ]
  }
 ],
 "metadata": {
  "kernelspec": {
   "display_name": "Python 3",
   "language": "python",
   "name": "python3"
  },
  "language_info": {
   "codemirror_mode": {
    "name": "ipython",
    "version": 3
   },
   "file_extension": ".py",
   "mimetype": "text/x-python",
   "name": "python",
   "nbconvert_exporter": "python",
   "pygments_lexer": "ipython3",
   "version": "3.11.5"
  }
 },
 "nbformat": 4,
 "nbformat_minor": 4
}
