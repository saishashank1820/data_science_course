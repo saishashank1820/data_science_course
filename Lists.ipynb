{
 "cells": [
  {
   "cell_type": "markdown",
   "id": "b5288822",
   "metadata": {},
   "source": [
    "## Lists in python\n",
    "\n",
    "Lists in python are a collection of objects and by objects meaning they are collection of either strings, integers or other lists. \n",
    "\n",
    "## Point to remember \n",
    "- Lists can conttain different type of data types in them and it would still be a list. "
   ]
  },
  {
   "cell_type": "code",
   "execution_count": 33,
   "id": "ebffec1d",
   "metadata": {},
   "outputs": [
    {
     "data": {
      "text/plain": [
       "list"
      ]
     },
     "execution_count": 33,
     "metadata": {},
     "output_type": "execute_result"
    }
   ],
   "source": [
    "my_list = [1,2,\"Sai\",\"Shashank\",2.0]\n",
    "type(my_list)"
   ]
  },
  {
   "cell_type": "markdown",
   "id": "52ba7615",
   "metadata": {},
   "source": [
    "As we have seen in the above code, though the list had integers, string and float variables as the list items it still remained as a list and its valid. \n",
    "\n",
    "## Lets dive into the methods that we can apply to our lists. \n",
    "\n",
    "### The below are some of the methods\n",
    "- append\n",
    "- sort\n",
    "- pop\n",
    "- count\n",
    "- copy\n",
    "- clear\n",
    "- insert\n",
    "- extend\n",
    "- index\n",
    "- clear\n",
    "- len\n",
    "\n",
    "Lets have a look at them in detail. \n",
    "- **append()**: The append function will take the arguments given and appends them to the end of the list"
   ]
  },
  {
   "cell_type": "code",
   "execution_count": 34,
   "id": "66c8a72a",
   "metadata": {},
   "outputs": [
    {
     "data": {
      "text/plain": [
       "[1, 2, 'Sai', 'Shashank', 2.0, 4]"
      ]
     },
     "execution_count": 34,
     "metadata": {},
     "output_type": "execute_result"
    }
   ],
   "source": [
    "my_list.append(4)\n",
    "my_list"
   ]
  },
  {
   "cell_type": "markdown",
   "id": "e2864a6a",
   "metadata": {},
   "source": [
    "- **Sort()**: The sort function will return the list sorted in the ascending order and the Sort fucntion takes an argument reverse when set to true will return a list sorted in the descending order. \n",
    "- **sorted()**: sorted is also a functon that sorts the list but instead of sorting it in place it returns the ordered list where we need to reassign it to the original list. Will take a deeper look in the following code cells. \n",
    "\n",
    "Let's look at sort in detail. "
   ]
  },
  {
   "cell_type": "code",
   "execution_count": 35,
   "id": "81ebd65c",
   "metadata": {},
   "outputs": [
    {
     "data": {
      "text/plain": [
       "[5, 6, 11, 34, 48, 65, 65, 78, 97, 654]"
      ]
     },
     "execution_count": 35,
     "metadata": {},
     "output_type": "execute_result"
    }
   ],
   "source": [
    "my_list = [5,11,34,654,6,65,65,78,48,97]\n",
    "my_list.sort()\n",
    "my_list"
   ]
  },
  {
   "cell_type": "markdown",
   "id": "a8642fef",
   "metadata": {},
   "source": [
    "When given the attribute reverse true this would return the descending order"
   ]
  },
  {
   "cell_type": "code",
   "execution_count": 36,
   "id": "c9299dbc",
   "metadata": {},
   "outputs": [
    {
     "data": {
      "text/plain": [
       "[654, 97, 78, 65, 65, 48, 34, 11, 6, 5]"
      ]
     },
     "execution_count": 36,
     "metadata": {},
     "output_type": "execute_result"
    }
   ],
   "source": [
    "my_list.sort(reverse=True)\n",
    "my_list"
   ]
  },
  {
   "cell_type": "markdown",
   "id": "718e0ba8",
   "metadata": {},
   "source": [
    "Let's take a look at sorted and see how this works\n",
    "\n",
    "As you can see in the below two code cells the sorted function did sort the list and returned the list but this wasn't in-place, which means that the original list we took is still the same list that was ordered from highest to lowest. "
   ]
  },
  {
   "cell_type": "code",
   "execution_count": 37,
   "id": "750fe6cd",
   "metadata": {},
   "outputs": [
    {
     "data": {
      "text/plain": [
       "[5, 6, 11, 34, 48, 65, 65, 78, 97, 654]"
      ]
     },
     "execution_count": 37,
     "metadata": {},
     "output_type": "execute_result"
    }
   ],
   "source": [
    "sorted(my_list)"
   ]
  },
  {
   "cell_type": "code",
   "execution_count": 38,
   "id": "47fa502d",
   "metadata": {},
   "outputs": [
    {
     "data": {
      "text/plain": [
       "[654, 97, 78, 65, 65, 48, 34, 11, 6, 5]"
      ]
     },
     "execution_count": 38,
     "metadata": {},
     "output_type": "execute_result"
    }
   ],
   "source": [
    "my_list"
   ]
  },
  {
   "cell_type": "markdown",
   "id": "8f2967bc",
   "metadata": {},
   "source": [
    "Let's reassign the sorted list back to itself. "
   ]
  },
  {
   "cell_type": "code",
   "execution_count": 39,
   "id": "dd5dd07b",
   "metadata": {},
   "outputs": [
    {
     "data": {
      "text/plain": [
       "[5, 6, 11, 34, 48, 65, 65, 78, 97, 654]"
      ]
     },
     "execution_count": 39,
     "metadata": {},
     "output_type": "execute_result"
    }
   ],
   "source": [
    "my_list = sorted(my_list)\n",
    "my_list"
   ]
  },
  {
   "cell_type": "markdown",
   "id": "c86c0da3",
   "metadata": {},
   "source": [
    "## Insert, Pop and Count\n",
    "\n",
    "**Pop**: The pop function would remove the element and returns the removed element from the list. Pop also has an attribute \"**index**\" where when provided will remove the element from the specified index. In general pop removes the last element from the list\n",
    "\n",
    "**Count**: The count function would return the count of an element in the list. "
   ]
  },
  {
   "cell_type": "code",
   "execution_count": 40,
   "id": "65de5bd9",
   "metadata": {},
   "outputs": [
    {
     "name": "stdout",
     "output_type": "stream",
     "text": [
      "Before Insert Operation [5, 6, 11, 34, 48, 65, 65, 78, 97, 654]\n",
      "After Insertion [12, 5, 6, 11, 34, 48, 65, 65, 78, 97, 654]\n",
      "Popped list:  [12, 5, 6, 11, 34, 48, 65, 65, 78, 97]\n",
      "Popped at index 0:  [5, 6, 11, 34, 48, 65, 65, 78, 97]\n"
     ]
    }
   ],
   "source": [
    "# **Insert function**\n",
    "print(\"Before Insert Operation\",my_list)\n",
    "my_list.insert(0,12)\n",
    "print(\"After Insertion\",my_list)\n",
    "# **Pop function**\n",
    "my_list.pop() #-> removes the element from the last as there is no index provided\n",
    "print(\"Popped list: \",my_list)\n",
    "my_list.pop(0) # --> removes the element at the index provided in this case at index 0\n",
    "print(\"Popped at index 0: \",my_list)"
   ]
  },
  {
   "cell_type": "code",
   "execution_count": 41,
   "id": "dfd7ff49",
   "metadata": {},
   "outputs": [
    {
     "name": "stdout",
     "output_type": "stream",
     "text": [
      "Count of 65 in my_list:  2\n"
     ]
    }
   ],
   "source": [
    "print(\"Count of 65 in my_list: \",my_list.count(65))"
   ]
  },
  {
   "cell_type": "markdown",
   "id": "d8745305",
   "metadata": {},
   "source": [
    "## Index and Extend\n",
    "\n",
    "**index**: The index method will return the index of an element in the list. \n",
    "\n",
    "**Extend**: The extend function will add the list of items or tuples to the end of the list on which its applied. "
   ]
  },
  {
   "cell_type": "code",
   "execution_count": 44,
   "id": "ef9988c5",
   "metadata": {},
   "outputs": [
    {
     "name": "stdout",
     "output_type": "stream",
     "text": [
      "Index of the ellemt 48 in the list:  4\n",
      "List before extending:  [5, 6, 11, 34, 48, 65, 65, 78, 97]\n",
      "List after extending:  [5, 6, 11, 34, 48, 65, 65, 78, 97, 14, 15, 16, 17]\n"
     ]
    }
   ],
   "source": [
    "# Printing the index of 48 from the list\n",
    "print(\"Index of the ellemt 48 in the list: \",my_list.index(48))\n",
    "# Lets add few elements to our list using extend. \n",
    "print(\"List before extending: \",my_list)\n",
    "my_list.extend([14,15,16,17])\n",
    "print(\"List after extending: \",my_list)"
   ]
  },
  {
   "cell_type": "markdown",
   "id": "59e0c0f5",
   "metadata": {},
   "source": [
    "## len, copy and clear\n",
    "\n",
    "**len**: The len function returns the length of the list i.e, the total number of elements present in the list. "
   ]
  },
  {
   "cell_type": "code",
   "execution_count": 45,
   "id": "22a0f8ae",
   "metadata": {},
   "outputs": [
    {
     "name": "stdout",
     "output_type": "stream",
     "text": [
      "Length of the my_list:  13\n"
     ]
    }
   ],
   "source": [
    "print(\"Length of the my_list: \",len(my_list))"
   ]
  },
  {
   "cell_type": "markdown",
   "id": "52c1e64d",
   "metadata": {},
   "source": [
    "## Copying the list\n",
    "When we hear the word copy the first thought we get is that can't we simply assign it to another variable and it gets copied. Well ...... programming doesn't always work in the way we think 🙃. Lets have a look at the below code cell. "
   ]
  },
  {
   "cell_type": "code",
   "execution_count": 47,
   "id": "e86b7318",
   "metadata": {},
   "outputs": [
    {
     "name": "stdout",
     "output_type": "stream",
     "text": [
      "[5, 6, 11, 34, 48, 65, 65, 78, 97, 14, 15, 16, 17]\n"
     ]
    }
   ],
   "source": [
    "my_new_list = my_list\n",
    "print(my_new_list)"
   ]
  },
  {
   "cell_type": "markdown",
   "id": "b169e17d",
   "metadata": {},
   "source": [
    "Now let's try to make changes in my_list and let's see if everything goes as we expect"
   ]
  },
  {
   "cell_type": "code",
   "execution_count": 48,
   "id": "67965ab4",
   "metadata": {},
   "outputs": [
    {
     "name": "stdout",
     "output_type": "stream",
     "text": [
      "my_list:  [5, 6, 11, 34, 48, 65, 65, 78, 97, 14, 15, 16, 17, 101, 102]\n",
      "my_new_list:  [5, 6, 11, 34, 48, 65, 65, 78, 97, 14, 15, 16, 17, 101, 102]\n"
     ]
    }
   ],
   "source": [
    "my_list.extend([101,102])\n",
    "print(\"my_list: \",my_list)\n",
    "print(\"my_new_list: \",my_new_list)"
   ]
  },
  {
   "cell_type": "markdown",
   "id": "d7cb79c2",
   "metadata": {},
   "source": [
    "That didn't go as expected did it? Cause what's really happening here is that when we are using the assignment operator the new variable simply points out to the original list, whatever changes we made for the original list will also gets reflected to the new list. This is where the function **copy()** comes into play. Now lets correct this by using the copy function and make changes to the original list again and lets see how it goes now. "
   ]
  },
  {
   "cell_type": "code",
   "execution_count": 49,
   "id": "2106daa9",
   "metadata": {},
   "outputs": [
    {
     "name": "stdout",
     "output_type": "stream",
     "text": [
      "my_list after change:  [5, 6, 11, 34, 48, 65, 65, 78, 97, 14, 15, 16, 17, 101]\n",
      "my_new_list:  [5, 6, 11, 34, 48, 65, 65, 78, 97, 14, 15, 16, 17, 101, 102]\n"
     ]
    }
   ],
   "source": [
    "my_new_list = my_list.copy()\n",
    "my_list.pop()\n",
    "print(\"my_list after change: \",my_list)\n",
    "print(\"my_new_list: \",my_new_list)"
   ]
  },
  {
   "cell_type": "markdown",
   "id": "8637e0ec",
   "metadata": {},
   "source": [
    "As you can see from the above output the pop function removed the element from the original list but the new list remained unchanged. "
   ]
  },
  {
   "cell_type": "markdown",
   "id": "04ec90df",
   "metadata": {},
   "source": [
    "**clear**: The clear method removes all the elements from the list. "
   ]
  },
  {
   "cell_type": "code",
   "execution_count": 50,
   "id": "cc4099a7",
   "metadata": {},
   "outputs": [
    {
     "name": "stdout",
     "output_type": "stream",
     "text": [
      "[]\n",
      "[]\n"
     ]
    }
   ],
   "source": [
    "my_list.clear()\n",
    "my_new_list.clear()\n",
    "print(my_list)\n",
    "print(my_new_list)"
   ]
  }
 ],
 "metadata": {
  "kernelspec": {
   "display_name": "Python 3 (ipykernel)",
   "language": "python",
   "name": "python3"
  },
  "language_info": {
   "codemirror_mode": {
    "name": "ipython",
    "version": 3
   },
   "file_extension": ".py",
   "mimetype": "text/x-python",
   "name": "python",
   "nbconvert_exporter": "python",
   "pygments_lexer": "ipython3",
   "version": "3.11.5"
  }
 },
 "nbformat": 4,
 "nbformat_minor": 5
}
